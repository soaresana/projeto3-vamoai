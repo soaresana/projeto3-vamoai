{
  "nbformat": 4,
  "nbformat_minor": 0,
  "metadata": {
    "colab": {
      "name": "cloud_tag.ipynb",
      "provenance": [],
      "collapsed_sections": []
    },
    "kernelspec": {
      "name": "python3",
      "display_name": "Python 3"
    },
    "language_info": {
      "name": "python"
    }
  },
  "cells": [
    {
      "cell_type": "code",
      "metadata": {
        "id": "RqieAd_qJ3EH",
        "colab": {
          "base_uri": "https://localhost:8080/"
        },
        "outputId": "4cf95bd2-5417-4d1d-8b54-a1999c2061d3"
      },
      "source": [
        "!pip3 install stylecloud\n",
        "import psycopg2\n",
        "import pandas as pd\n",
        "import stylecloud\n",
        "from wordcloud import WordCloud, ImageColorGenerator \n",
        "from PIL import Image\n",
        "import matplotlib.pyplot as plt\n",
        "import numpy as np\n",
        "from wordcloud import WordCloud, ImageColorGenerator \n",
        "from PIL import Image\n",
        "import matplotlib.pyplot as plt\n",
        "import numpy as np"
      ],
      "execution_count": 1,
      "outputs": [
        {
          "output_type": "stream",
          "text": [
            "Collecting stylecloud\n",
            "\u001b[?25l  Downloading https://files.pythonhosted.org/packages/28/6a/695819d00292ce4d7701938262886318b3b98c6d7c7ea29d8b1a516cbff7/stylecloud-0.5.2.tar.gz (262kB)\n",
            "\u001b[K     |████████████████████████████████| 266kB 17.1MB/s \n",
            "\u001b[?25hRequirement already satisfied: wordcloud in /usr/local/lib/python3.7/dist-packages (from stylecloud) (1.5.0)\n",
            "Collecting icon-font-to-png\n",
            "\u001b[?25l  Downloading https://files.pythonhosted.org/packages/3d/70/c3b6c5904ae8592cb97c3ddb5de40801837f66922aa140e285d4a2e49a42/icon_font_to_png-0.4.1-py2.py3-none-any.whl (161kB)\n",
            "\u001b[K     |████████████████████████████████| 163kB 37.0MB/s \n",
            "\u001b[?25hRequirement already satisfied: palettable in /usr/local/lib/python3.7/dist-packages (from stylecloud) (3.3.0)\n",
            "Collecting fire\n",
            "\u001b[?25l  Downloading https://files.pythonhosted.org/packages/11/07/a119a1aa04d37bc819940d95ed7e135a7dcca1c098123a3764a6dcace9e7/fire-0.4.0.tar.gz (87kB)\n",
            "\u001b[K     |████████████████████████████████| 92kB 10.7MB/s \n",
            "\u001b[?25hRequirement already satisfied: matplotlib in /usr/local/lib/python3.7/dist-packages (from stylecloud) (3.2.2)\n",
            "Requirement already satisfied: pillow in /usr/local/lib/python3.7/dist-packages (from wordcloud->stylecloud) (7.1.2)\n",
            "Requirement already satisfied: numpy>=1.6.1 in /usr/local/lib/python3.7/dist-packages (from wordcloud->stylecloud) (1.19.5)\n",
            "Collecting tinycss>=0.4\n",
            "\u001b[?25l  Downloading https://files.pythonhosted.org/packages/05/59/af583fff6236c7d2f94f8175c40ce501dcefb8d1b42e4bb7a2622dff689e/tinycss-0.4.tar.gz (87kB)\n",
            "\u001b[K     |████████████████████████████████| 92kB 12.8MB/s \n",
            "\u001b[?25hRequirement already satisfied: requests>=2.12.5 in /usr/local/lib/python3.7/dist-packages (from icon-font-to-png->stylecloud) (2.23.0)\n",
            "Requirement already satisfied: six>=1.10.0 in /usr/local/lib/python3.7/dist-packages (from icon-font-to-png->stylecloud) (1.15.0)\n",
            "Requirement already satisfied: termcolor in /usr/local/lib/python3.7/dist-packages (from fire->stylecloud) (1.1.0)\n",
            "Requirement already satisfied: cycler>=0.10 in /usr/local/lib/python3.7/dist-packages (from matplotlib->stylecloud) (0.10.0)\n",
            "Requirement already satisfied: python-dateutil>=2.1 in /usr/local/lib/python3.7/dist-packages (from matplotlib->stylecloud) (2.8.1)\n",
            "Requirement already satisfied: pyparsing!=2.0.4,!=2.1.2,!=2.1.6,>=2.0.1 in /usr/local/lib/python3.7/dist-packages (from matplotlib->stylecloud) (2.4.7)\n",
            "Requirement already satisfied: kiwisolver>=1.0.1 in /usr/local/lib/python3.7/dist-packages (from matplotlib->stylecloud) (1.3.1)\n",
            "Requirement already satisfied: certifi>=2017.4.17 in /usr/local/lib/python3.7/dist-packages (from requests>=2.12.5->icon-font-to-png->stylecloud) (2020.12.5)\n",
            "Requirement already satisfied: urllib3!=1.25.0,!=1.25.1,<1.26,>=1.21.1 in /usr/local/lib/python3.7/dist-packages (from requests>=2.12.5->icon-font-to-png->stylecloud) (1.24.3)\n",
            "Requirement already satisfied: chardet<4,>=3.0.2 in /usr/local/lib/python3.7/dist-packages (from requests>=2.12.5->icon-font-to-png->stylecloud) (3.0.4)\n",
            "Requirement already satisfied: idna<3,>=2.5 in /usr/local/lib/python3.7/dist-packages (from requests>=2.12.5->icon-font-to-png->stylecloud) (2.10)\n",
            "Building wheels for collected packages: stylecloud, fire, tinycss\n",
            "  Building wheel for stylecloud (setup.py) ... \u001b[?25l\u001b[?25hdone\n",
            "  Created wheel for stylecloud: filename=stylecloud-0.5.2-cp37-none-any.whl size=259508 sha256=119d7c8f0dd3057c35739ddd0fca207df38fe46ccce166a2961152e4e8838786\n",
            "  Stored in directory: /root/.cache/pip/wheels/38/60/5b/873661dde845e3b34bc73d7552f21989ebdf7c735e924dc9dd\n",
            "  Building wheel for fire (setup.py) ... \u001b[?25l\u001b[?25hdone\n",
            "  Created wheel for fire: filename=fire-0.4.0-py2.py3-none-any.whl size=115928 sha256=df460afb4860583858038d6d01756a996b7e0a31621000399fb3738ddd742723\n",
            "  Stored in directory: /root/.cache/pip/wheels/af/19/30/1ea0cad502dcb4e66ed5a690279628c827aea38bbbab75d5ed\n",
            "  Building wheel for tinycss (setup.py) ... \u001b[?25l\u001b[?25hdone\n",
            "  Created wheel for tinycss: filename=tinycss-0.4-cp37-none-any.whl size=43942 sha256=d1d68e72a14c5f24aea066ec5e7249279e6bcdf9e299056aca9cc1eb65dd4469\n",
            "  Stored in directory: /root/.cache/pip/wheels/1b/26/08/7390b2e6d5eb3403ef35647f09576459ca567d00ac725307d5\n",
            "Successfully built stylecloud fire tinycss\n",
            "Installing collected packages: tinycss, icon-font-to-png, fire, stylecloud\n",
            "Successfully installed fire-0.4.0 icon-font-to-png-0.4.1 stylecloud-0.5.2 tinycss-0.4\n"
          ],
          "name": "stdout"
        },
        {
          "output_type": "stream",
          "text": [
            "/usr/local/lib/python3.7/dist-packages/psycopg2/__init__.py:144: UserWarning: The psycopg2 wheel package will be renamed from release 2.8; in order to keep installing from binary please use \"pip install psycopg2-binary\" instead. For details see: <http://initd.org/psycopg/docs/install.html#binary-install-from-pypi>.\n",
            "  \"\"\")\n"
          ],
          "name": "stderr"
        }
      ]
    },
    {
      "cell_type": "code",
      "metadata": {
        "id": "6Eve-MVc5pQs"
      },
      "source": [
        "param_dic = {\n",
        "    \"host\"      : \"ec2-52-87-161-189.compute-1.amazonaws.com\",\n",
        "    \"database\"  : \"grupo2\",\n",
        "    \"user\"      : \"grupo2\",\n",
        "    \"password\"  : \"albaniatangerinajoaninha\"\n",
        "}"
      ],
      "execution_count": 2,
      "outputs": []
    },
    {
      "cell_type": "code",
      "metadata": {
        "id": "OUNUNtrs510z"
      },
      "source": [
        "def connect(params_dic):\n",
        "    \n",
        "    conn = None\n",
        "    try:\n",
        "        print('Conectando ao banco PostgreSQL...')\n",
        "        conn = psycopg2.connect(**params_dic)\n",
        "    except (Exception, psycopg2.DatabaseError) as error:\n",
        "        print(error)\n",
        "    print(\"Conexão Bem-Sucedida\")\n",
        "    return conn\n"
      ],
      "execution_count": 3,
      "outputs": []
    },
    {
      "cell_type": "code",
      "metadata": {
        "id": "d0iLWo_N534J"
      },
      "source": [
        "def postgresql_to_dataframe(conn, select_query, column_names):\n",
        "    \"\"\"\n",
        "    transformando select em pd dataframe\n",
        "    \"\"\"\n",
        "    cursor = conn.cursor()\n",
        "    try:\n",
        "        cursor.execute(select_query)\n",
        "    except (Exception, psycopg2.DatabaseError) as error:\n",
        "        print(\"Error: %s\" % error)\n",
        "        cursor.close()\n",
        "        return 1\n",
        "    \n",
        "    tupples = cursor.fetchall()\n",
        "    cursor.close()\n",
        "\n",
        "    df = pd.DataFrame(tupples, columns=column_names)\n",
        "    return df"
      ],
      "execution_count": 4,
      "outputs": []
    },
    {
      "cell_type": "code",
      "metadata": {
        "colab": {
          "base_uri": "https://localhost:8080/"
        },
        "id": "84rcaRsh57GA",
        "outputId": "7de4297d-cecb-441c-ada8-41e58eab6c6d"
      },
      "source": [
        "conn = connect(param_dic)\n",
        "column_names = [\"steamspy_tags\"]\n",
        "df = postgresql_to_dataframe(conn, \"select steamspy_tags from steam\", column_names)\n",
        "df.head()\n",
        "df = df.to_string()"
      ],
      "execution_count": 5,
      "outputs": [
        {
          "output_type": "stream",
          "text": [
            "Conectando ao banco PostgreSQL...\n",
            "Conexão Bem-Sucedida\n"
          ],
          "name": "stdout"
        }
      ]
    },
    {
      "cell_type": "code",
      "metadata": {
        "id": "PYXASD1EaOCo"
      },
      "source": [
        "stylecloud.gen_stylecloud(df,\n",
        "                          icon_name='fab fa-steam',\n",
        "                          colors='white',\n",
        "                          background_color='#41484E',\n",
        "                          output_name='steam-cloud.png',\n",
        "                          collocations=False)\n"
      ],
      "execution_count": 6,
      "outputs": []
    }
  ]
}