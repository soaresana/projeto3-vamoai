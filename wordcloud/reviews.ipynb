{
  "nbformat": 4,
  "nbformat_minor": 0,
  "metadata": {
    "kernelspec": {
      "name": "python391jvsc74a57bd0a02541b81c2cb086558f4a6f5f48a6e84b9401c723c8481042acb77b06591637",
      "display_name": "Python 3.9.1 64-bit"
    },
    "language_info": {
      "codemirror_mode": {
        "name": "ipython",
        "version": 3
      },
      "file_extension": ".py",
      "mimetype": "text/x-python",
      "name": "python",
      "nbconvert_exporter": "python",
      "pygments_lexer": "ipython3",
      "version": "3.9.1"
    },
    "colab": {
      "name": "nlp.ipynb",
      "provenance": [],
      "collapsed_sections": [],
      "toc_visible": true
    },
    "metadata": {
      "interpreter": {
        "hash": "a02541b81c2cb086558f4a6f5f48a6e84b9401c723c8481042acb77b06591637"
      }
    }
  },
  "cells": [
    {
      "cell_type": "code",
      "metadata": {
        "id": "fPlO6m8a40o2",
        "colab": {
          "base_uri": "https://localhost:8080/"
        },
        "outputId": "746ed13b-8eec-4a65-c0e8-ea096d8d796d"
      },
      "source": [
        "import numpy as np # linear algebra\n",
        "import pandas as pd # data processing, CSV file I/O (e.g. pd.read_csv)\n",
        "import plotly.express as px\n",
        "import nltk \n",
        "from nltk.corpus import stopwords\n",
        "from nltk.tokenize import word_tokenize\n",
        "nltk.download('punkt')\n",
        "from nltk.corpus import stopwords\n",
        "from string import punctuation\n",
        "nltk.download('stopwords')\n",
        "import string\n",
        "import stylecloud"
      ],
      "execution_count": 7,
      "outputs": [
        {
          "output_type": "stream",
          "name": "stderr",
          "text": [
            "[nltk_data] Downloading package punkt to\n[nltk_data]     C:\\Users\\soare\\AppData\\Roaming\\nltk_data...\n[nltk_data]   Package punkt is already up-to-date!\n[nltk_data] Downloading package stopwords to\n[nltk_data]     C:\\Users\\soare\\AppData\\Roaming\\nltk_data...\n[nltk_data]   Package stopwords is already up-to-date!\n"
          ]
        },
        {
          "output_type": "error",
          "ename": "ModuleNotFoundError",
          "evalue": "No module named 'stylecloud'",
          "traceback": [
            "\u001b[1;31m---------------------------------------------------------------------------\u001b[0m",
            "\u001b[1;31mModuleNotFoundError\u001b[0m                       Traceback (most recent call last)",
            "\u001b[1;32m<ipython-input-7-9d85526caa5e>\u001b[0m in \u001b[0;36m<module>\u001b[1;34m\u001b[0m\n\u001b[0;32m     10\u001b[0m \u001b[0mnltk\u001b[0m\u001b[1;33m.\u001b[0m\u001b[0mdownload\u001b[0m\u001b[1;33m(\u001b[0m\u001b[1;34m'stopwords'\u001b[0m\u001b[1;33m)\u001b[0m\u001b[1;33m\u001b[0m\u001b[1;33m\u001b[0m\u001b[0m\n\u001b[0;32m     11\u001b[0m \u001b[1;32mimport\u001b[0m \u001b[0mstring\u001b[0m\u001b[1;33m\u001b[0m\u001b[1;33m\u001b[0m\u001b[0m\n\u001b[1;32m---> 12\u001b[1;33m \u001b[1;32mimport\u001b[0m \u001b[0mstylecloud\u001b[0m\u001b[1;33m\u001b[0m\u001b[1;33m\u001b[0m\u001b[0m\n\u001b[0m",
            "\u001b[1;31mModuleNotFoundError\u001b[0m: No module named 'stylecloud'"
          ]
        }
      ]
    },
    {
      "cell_type": "code",
      "metadata": {
        "id": "drZU0pAf40o3"
      },
      "source": [
        "url_pos = 'https://raw.githubusercontent.com/larifeliciana/steam-reviews-portuguese/master/pos'\n",
        "url_neg = 'https://raw.githubusercontent.com/larifeliciana/steam-reviews-portuguese/master/neg'\n",
        "\n",
        "df_pos=pd.read_csv(url_pos,delimiter=\"\\t\",names= ['reviews'], header=None)\n",
        "df_neg=pd.read_csv(url_neg,delimiter=\"\\t\",names= ['reviews'], header=None)\n",
        "\n",
        "stop_words = set(stopwords.words('portuguese'))"
      ],
      "execution_count": null,
      "outputs": []
    },
    {
      "cell_type": "code",
      "metadata": {
        "id": "NjzqadjdC0Zk"
      },
      "source": [
        "# Removendo STOPWORDS e colocando tudo em MINUSCULO.\n",
        "df_pos['reviews'] = df_pos['reviews'].apply(lambda x:''.join([char.lower() for char in x if char not in string.punctuation]))\n",
        "df_pos['reviews'] = df_pos['reviews'].apply(lambda x: ' '.join([str(word).lower() for word in x.split() if word not in stop_words])) \n",
        "df_neg['reviews'] = df_neg['reviews'].apply(lambda x:''.join([char for char in x if char not in string.punctuation]))\n",
        "df_neg['reviews'] = df_neg['reviews'].apply(lambda x: ' '.join([str(word).lower() for word in x.split() if word not in stop_words]))"
      ],
      "execution_count": null,
      "outputs": []
    },
    {
      "cell_type": "code",
      "metadata": {
        "id": "zBBFobgkgray",
        "colab": {
          "base_uri": "https://localhost:8080/",
          "height": 163
        },
        "outputId": "1af49002-2178-4780-abf0-a78e84741729"
      },
      "source": [
        "df_pos = df_pos['reviews'].to_string()\n",
        "df_neg = df_neg['reviews'].to_string()"
      ],
      "execution_count": 1,
      "outputs": [
        {
          "output_type": "error",
          "ename": "NameError",
          "evalue": "ignored",
          "traceback": [
            "\u001b[0;31m---------------------------------------------------------------------------\u001b[0m",
            "\u001b[0;31mNameError\u001b[0m                                 Traceback (most recent call last)",
            "\u001b[0;32m<ipython-input-1-0ca8c87d8161>\u001b[0m in \u001b[0;36m<module>\u001b[0;34m()\u001b[0m\n\u001b[0;32m----> 1\u001b[0;31m \u001b[0mdf_pos\u001b[0m \u001b[0;34m=\u001b[0m \u001b[0mdf_pos\u001b[0m\u001b[0;34m[\u001b[0m\u001b[0;34m'reviews'\u001b[0m\u001b[0;34m]\u001b[0m\u001b[0;34m.\u001b[0m\u001b[0mto_string\u001b[0m\u001b[0;34m(\u001b[0m\u001b[0;34m)\u001b[0m\u001b[0;34m\u001b[0m\u001b[0;34m\u001b[0m\u001b[0m\n\u001b[0m",
            "\u001b[0;31mNameError\u001b[0m: name 'df_pos' is not defined"
          ]
        }
      ]
    },
    {
      "cell_type": "code",
      "metadata": {
        "id": "aQuAYFGdBT0J"
      },
      "source": [
        "df_neg = df_neg.replace('jogo',' ')\n",
        "df_pos = df_pos.replace('jogo',' ')\n",
        "df_neg = df_neg.replace('bom',' ')"
      ],
      "execution_count": null,
      "outputs": []
    },
    {
      "cell_type": "code",
      "metadata": {
        "id": "ufl76Of3pXue"
      },
      "source": [
        "df_neg = df_neg['reviews'].to_string()stylecloud.gen_stylecloud(df_pos,\n",
        "                          icon_name='fas fa-user-plus',\n",
        "                          colors= ['#cc0000', '#a30000','#820000'],\n",
        "                          background_color='#41484E',\n",
        "                          gradient='horizontal',\n",
        "                          custom_stopwords=stop_words)"
      ],
      "execution_count": null,
      "outputs": []
    },
    {
      "cell_type": "code",
      "metadata": {
        "id": "CPz0ulf-t6Ou"
      },
      "source": [
        "stylecloud.gen_stylecloud(df_pos,\n",
        "                          icon_name='fas fa-user-plus',\n",
        "                          colors= ['#27aa80', '#32ff6a','#a8ff3e'],\n",
        "                          background_color='#41484E',\n",
        "                          gradient='horizontal',\n",
        "                          custom_stopwords=stop_words)"
      ],
      "execution_count": null,
      "outputs": []
    }
  ]
}